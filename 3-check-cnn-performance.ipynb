{
 "cells": [
  {
   "cell_type": "code",
   "execution_count": 1,
   "id": "6e3e5f63-6ac9-4e2b-a8e2-c46e00ff80aa",
   "metadata": {
    "execution": {
     "iopub.execute_input": "2024-12-16T17:30:03.529998Z",
     "iopub.status.busy": "2024-12-16T17:30:03.529422Z",
     "iopub.status.idle": "2024-12-16T17:30:03.890767Z",
     "shell.execute_reply": "2024-12-16T17:30:03.890221Z",
     "shell.execute_reply.started": "2024-12-16T17:30:03.529975Z"
    }
   },
   "outputs": [
    {
     "data": {
      "text/html": [
       "<div>\n",
       "<style scoped>\n",
       "    .dataframe tbody tr th:only-of-type {\n",
       "        vertical-align: middle;\n",
       "    }\n",
       "\n",
       "    .dataframe tbody tr th {\n",
       "        vertical-align: top;\n",
       "    }\n",
       "\n",
       "    .dataframe thead th {\n",
       "        text-align: right;\n",
       "    }\n",
       "</style>\n",
       "<table border=\"1\" class=\"dataframe\">\n",
       "  <thead>\n",
       "    <tr style=\"text-align: right;\">\n",
       "      <th></th>\n",
       "      <th></th>\n",
       "      <th>filename</th>\n",
       "      <th>ebs_true</th>\n",
       "      <th>exo_true</th>\n",
       "      <th>flares_true</th>\n",
       "      <th>rot_true</th>\n",
       "      <th>ebs_pred</th>\n",
       "      <th>exo_pred</th>\n",
       "      <th>flares_pred</th>\n",
       "      <th>rot_pred</th>\n",
       "    </tr>\n",
       "    <tr>\n",
       "      <th>TIC</th>\n",
       "      <th>sector</th>\n",
       "      <th></th>\n",
       "      <th></th>\n",
       "      <th></th>\n",
       "      <th></th>\n",
       "      <th></th>\n",
       "      <th></th>\n",
       "      <th></th>\n",
       "      <th></th>\n",
       "      <th></th>\n",
       "    </tr>\n",
       "  </thead>\n",
       "  <tbody>\n",
       "    <tr>\n",
       "      <th>366972961</th>\n",
       "      <th>25</th>\n",
       "      <td>tess2020133194932-s0025-0000000366972961-0182-...</td>\n",
       "      <td>1.0</td>\n",
       "      <td>0.0</td>\n",
       "      <td>0.0</td>\n",
       "      <td>0.0</td>\n",
       "      <td>0.992689</td>\n",
       "      <td>0.004412</td>\n",
       "      <td>0.001550</td>\n",
       "      <td>0.001349</td>\n",
       "    </tr>\n",
       "    <tr>\n",
       "      <th>349156098</th>\n",
       "      <th>31</th>\n",
       "      <td>tess2020294194027-s0031-0000000349156098-0198-...</td>\n",
       "      <td>1.0</td>\n",
       "      <td>0.0</td>\n",
       "      <td>0.0</td>\n",
       "      <td>0.0</td>\n",
       "      <td>0.890435</td>\n",
       "      <td>0.087259</td>\n",
       "      <td>0.013445</td>\n",
       "      <td>0.008861</td>\n",
       "    </tr>\n",
       "    <tr>\n",
       "      <th>139804406</th>\n",
       "      <th>1</th>\n",
       "      <td>tess2018206045859-s0001-0000000139804406-0120-...</td>\n",
       "      <td>0.0</td>\n",
       "      <td>0.0</td>\n",
       "      <td>1.0</td>\n",
       "      <td>0.0</td>\n",
       "      <td>0.007339</td>\n",
       "      <td>0.005922</td>\n",
       "      <td>0.926536</td>\n",
       "      <td>0.060204</td>\n",
       "    </tr>\n",
       "    <tr>\n",
       "      <th>237913194</th>\n",
       "      <th>28</th>\n",
       "      <td>tess2020212050318-s0028-0000000237913194-0190-...</td>\n",
       "      <td>0.0</td>\n",
       "      <td>1.0</td>\n",
       "      <td>0.0</td>\n",
       "      <td>0.0</td>\n",
       "      <td>0.004000</td>\n",
       "      <td>0.993885</td>\n",
       "      <td>0.001446</td>\n",
       "      <td>0.000668</td>\n",
       "    </tr>\n",
       "    <tr>\n",
       "      <th>238123653</th>\n",
       "      <th>7</th>\n",
       "      <td>tess2019006130736-s0007-0000000238123653-0131-...</td>\n",
       "      <td>0.0</td>\n",
       "      <td>0.0</td>\n",
       "      <td>0.0</td>\n",
       "      <td>1.0</td>\n",
       "      <td>0.008049</td>\n",
       "      <td>0.006662</td>\n",
       "      <td>0.044507</td>\n",
       "      <td>0.940781</td>\n",
       "    </tr>\n",
       "    <tr>\n",
       "      <th>...</th>\n",
       "      <th>...</th>\n",
       "      <td>...</td>\n",
       "      <td>...</td>\n",
       "      <td>...</td>\n",
       "      <td>...</td>\n",
       "      <td>...</td>\n",
       "      <td>...</td>\n",
       "      <td>...</td>\n",
       "      <td>...</td>\n",
       "      <td>...</td>\n",
       "    </tr>\n",
       "    <tr>\n",
       "      <th>264461976</th>\n",
       "      <th>32</th>\n",
       "      <td>tess2020324010417-s0032-0000000264461976-0200-...</td>\n",
       "      <td>0.0</td>\n",
       "      <td>0.0</td>\n",
       "      <td>0.0</td>\n",
       "      <td>1.0</td>\n",
       "      <td>0.166463</td>\n",
       "      <td>0.006412</td>\n",
       "      <td>0.036199</td>\n",
       "      <td>0.790926</td>\n",
       "    </tr>\n",
       "    <tr>\n",
       "      <th>339960875</th>\n",
       "      <th>7</th>\n",
       "      <td>tess2019006130736-s0007-0000000339960875-0131-...</td>\n",
       "      <td>0.0</td>\n",
       "      <td>0.0</td>\n",
       "      <td>0.0</td>\n",
       "      <td>1.0</td>\n",
       "      <td>0.009004</td>\n",
       "      <td>0.001515</td>\n",
       "      <td>0.030555</td>\n",
       "      <td>0.958926</td>\n",
       "    </tr>\n",
       "    <tr>\n",
       "      <th>343173162</th>\n",
       "      <th>24</th>\n",
       "      <td>tess2020106103520-s0024-0000000343173162-0180-...</td>\n",
       "      <td>0.0</td>\n",
       "      <td>0.0</td>\n",
       "      <td>0.0</td>\n",
       "      <td>1.0</td>\n",
       "      <td>0.000272</td>\n",
       "      <td>0.000790</td>\n",
       "      <td>0.001234</td>\n",
       "      <td>0.997703</td>\n",
       "    </tr>\n",
       "    <tr>\n",
       "      <th>350073391</th>\n",
       "      <th>26</th>\n",
       "      <td>tess2020160202036-s0026-0000000350073391-0188-...</td>\n",
       "      <td>0.0</td>\n",
       "      <td>0.0</td>\n",
       "      <td>0.0</td>\n",
       "      <td>1.0</td>\n",
       "      <td>0.008206</td>\n",
       "      <td>0.006810</td>\n",
       "      <td>0.018824</td>\n",
       "      <td>0.966161</td>\n",
       "    </tr>\n",
       "    <tr>\n",
       "      <th>59843967</th>\n",
       "      <th>6</th>\n",
       "      <td>tess2018349182500-s0006-0000000059843967-0126-...</td>\n",
       "      <td>0.0</td>\n",
       "      <td>1.0</td>\n",
       "      <td>0.0</td>\n",
       "      <td>0.0</td>\n",
       "      <td>0.024648</td>\n",
       "      <td>0.968988</td>\n",
       "      <td>0.003571</td>\n",
       "      <td>0.002793</td>\n",
       "    </tr>\n",
       "  </tbody>\n",
       "</table>\n",
       "<p>695 rows × 9 columns</p>\n",
       "</div>"
      ],
      "text/plain": [
       "                                                           filename  ebs_true  \\\n",
       "TIC       sector                                                                \n",
       "366972961 25      tess2020133194932-s0025-0000000366972961-0182-...       1.0   \n",
       "349156098 31      tess2020294194027-s0031-0000000349156098-0198-...       1.0   \n",
       "139804406 1       tess2018206045859-s0001-0000000139804406-0120-...       0.0   \n",
       "237913194 28      tess2020212050318-s0028-0000000237913194-0190-...       0.0   \n",
       "238123653 7       tess2019006130736-s0007-0000000238123653-0131-...       0.0   \n",
       "...                                                             ...       ...   \n",
       "264461976 32      tess2020324010417-s0032-0000000264461976-0200-...       0.0   \n",
       "339960875 7       tess2019006130736-s0007-0000000339960875-0131-...       0.0   \n",
       "343173162 24      tess2020106103520-s0024-0000000343173162-0180-...       0.0   \n",
       "350073391 26      tess2020160202036-s0026-0000000350073391-0188-...       0.0   \n",
       "59843967  6       tess2018349182500-s0006-0000000059843967-0126-...       0.0   \n",
       "\n",
       "                  exo_true  flares_true  rot_true  ebs_pred  exo_pred  \\\n",
       "TIC       sector                                                        \n",
       "366972961 25           0.0          0.0       0.0  0.992689  0.004412   \n",
       "349156098 31           0.0          0.0       0.0  0.890435  0.087259   \n",
       "139804406 1            0.0          1.0       0.0  0.007339  0.005922   \n",
       "237913194 28           1.0          0.0       0.0  0.004000  0.993885   \n",
       "238123653 7            0.0          0.0       1.0  0.008049  0.006662   \n",
       "...                    ...          ...       ...       ...       ...   \n",
       "264461976 32           0.0          0.0       1.0  0.166463  0.006412   \n",
       "339960875 7            0.0          0.0       1.0  0.009004  0.001515   \n",
       "343173162 24           0.0          0.0       1.0  0.000272  0.000790   \n",
       "350073391 26           0.0          0.0       1.0  0.008206  0.006810   \n",
       "59843967  6            1.0          0.0       0.0  0.024648  0.968988   \n",
       "\n",
       "                  flares_pred  rot_pred  \n",
       "TIC       sector                         \n",
       "366972961 25         0.001550  0.001349  \n",
       "349156098 31         0.013445  0.008861  \n",
       "139804406 1          0.926536  0.060204  \n",
       "237913194 28         0.001446  0.000668  \n",
       "238123653 7          0.044507  0.940781  \n",
       "...                       ...       ...  \n",
       "264461976 32         0.036199  0.790926  \n",
       "339960875 7          0.030555  0.958926  \n",
       "343173162 24         0.001234  0.997703  \n",
       "350073391 26         0.018824  0.966161  \n",
       "59843967  6          0.003571  0.002793  \n",
       "\n",
       "[695 rows x 9 columns]"
      ]
     },
     "execution_count": 1,
     "metadata": {},
     "output_type": "execute_result"
    }
   ],
   "source": [
    "import pandas as pd\n",
    "data = pd.read_csv(\"batchnorm1_0/output/batchnorm1_0_output.csv\", index_col=[0, 1])\n",
    "data"
   ]
  },
  {
   "cell_type": "code",
   "execution_count": 2,
   "id": "1dc7a401-817a-4f2b-9457-5168387f1070",
   "metadata": {
    "execution": {
     "iopub.execute_input": "2024-12-16T17:30:19.962194Z",
     "iopub.status.busy": "2024-12-16T17:30:19.961696Z",
     "iopub.status.idle": "2024-12-16T17:30:19.966257Z",
     "shell.execute_reply": "2024-12-16T17:30:19.965863Z",
     "shell.execute_reply.started": "2024-12-16T17:30:19.962171Z"
    }
   },
   "outputs": [],
   "source": [
    "comp = (data[[\"ebs_pred\", \"exo_pred\", \"flares_pred\", \"rot_pred\"]].round(1).values == 1) & (1 == data[[\"ebs_true\", \"exo_true\", \"flares_true\", \"rot_true\"]].values)"
   ]
  },
  {
   "cell_type": "code",
   "execution_count": 3,
   "id": "66fbaca1-4ee6-4bd8-9187-f2e7a27a1eea",
   "metadata": {
    "execution": {
     "iopub.execute_input": "2024-12-16T17:30:23.306309Z",
     "iopub.status.busy": "2024-12-16T17:30:23.306067Z",
     "iopub.status.idle": "2024-12-16T17:30:23.311202Z",
     "shell.execute_reply": "2024-12-16T17:30:23.310809Z",
     "shell.execute_reply.started": "2024-12-16T17:30:23.306292Z"
    }
   },
   "outputs": [
    {
     "data": {
      "text/plain": [
       "array([0.55769231, 0.71649485, 0.20430108, 0.60406091])"
      ]
     },
     "execution_count": 3,
     "metadata": {},
     "output_type": "execute_result"
    }
   ],
   "source": [
    "comp.sum(axis=0) / (data[[\"ebs_true\", \"exo_true\", \"flares_true\", \"rot_true\"]].values == 1).sum(axis=0)"
   ]
  },
  {
   "cell_type": "code",
   "execution_count": 4,
   "id": "f9127691-62e3-4822-a593-64d6e7cae4a3",
   "metadata": {
    "execution": {
     "iopub.execute_input": "2024-12-16T17:30:37.046858Z",
     "iopub.status.busy": "2024-12-16T17:30:37.046271Z",
     "iopub.status.idle": "2024-12-16T17:30:37.051961Z",
     "shell.execute_reply": "2024-12-16T17:30:37.051567Z",
     "shell.execute_reply.started": "2024-12-16T17:30:37.046835Z"
    }
   },
   "outputs": [
    {
     "data": {
      "text/plain": [
       "525"
      ]
     },
     "execution_count": 4,
     "metadata": {},
     "output_type": "execute_result"
    }
   ],
   "source": [
    "(data[[\"ebs_pred\", \"exo_pred\", \"flares_pred\", \"rot_pred\"]].values.argmax(axis=1) == data[[\"ebs_true\", \"exo_true\", \"flares_true\", \"rot_true\"]].values.argmax(axis=1)).sum()"
   ]
  },
  {
   "cell_type": "code",
   "execution_count": 5,
   "id": "1d0d6394-ee41-4e2c-bc2b-a27cd4aa0d89",
   "metadata": {
    "execution": {
     "iopub.execute_input": "2024-12-16T17:30:39.753684Z",
     "iopub.status.busy": "2024-12-16T17:30:39.753326Z",
     "iopub.status.idle": "2024-12-16T17:30:39.758829Z",
     "shell.execute_reply": "2024-12-16T17:30:39.758390Z",
     "shell.execute_reply.started": "2024-12-16T17:30:39.753665Z"
    }
   },
   "outputs": [
    {
     "data": {
      "text/plain": [
       "ebs_pred       181.246781\n",
       "exo_pred       227.828195\n",
       "flares_pred     64.707102\n",
       "rot_pred       221.217923\n",
       "dtype: float64"
      ]
     },
     "execution_count": 5,
     "metadata": {},
     "output_type": "execute_result"
    }
   ],
   "source": [
    "data[[\"ebs_pred\", \"exo_pred\", \"flares_pred\", \"rot_pred\"]].sum()"
   ]
  },
  {
   "cell_type": "code",
   "execution_count": 6,
   "id": "2486b223-cf56-478a-8261-b5d524b0cbc8",
   "metadata": {
    "execution": {
     "iopub.execute_input": "2024-12-16T17:30:46.578198Z",
     "iopub.status.busy": "2024-12-16T17:30:46.577699Z",
     "iopub.status.idle": "2024-12-16T17:30:46.583101Z",
     "shell.execute_reply": "2024-12-16T17:30:46.582668Z",
     "shell.execute_reply.started": "2024-12-16T17:30:46.578178Z"
    }
   },
   "outputs": [
    {
     "data": {
      "text/plain": [
       "ebs_true       0.301439\n",
       "exo_true       0.280576\n",
       "flares_true    0.133813\n",
       "rot_true       0.284173\n",
       "dtype: float64"
      ]
     },
     "execution_count": 6,
     "metadata": {},
     "output_type": "execute_result"
    }
   ],
   "source": [
    "data[[\"ebs_true\", \"exo_true\", \"flares_true\", \"rot_true\"]].sum()/len(data)"
   ]
  },
  {
   "cell_type": "code",
   "execution_count": null,
   "id": "d97b8969-3267-476d-956a-f39fe50d4bb9",
   "metadata": {},
   "outputs": [],
   "source": []
  }
 ],
 "metadata": {
  "kernelspec": {
   "display_name": "notebook",
   "language": "python",
   "name": "python3"
  },
  "language_info": {
   "codemirror_mode": {
    "name": "ipython",
    "version": 3
   },
   "file_extension": ".py",
   "mimetype": "text/x-python",
   "name": "python",
   "nbconvert_exporter": "python",
   "pygments_lexer": "ipython3",
   "version": "3.11.0"
  }
 },
 "nbformat": 4,
 "nbformat_minor": 5
}
