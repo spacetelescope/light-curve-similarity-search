{
 "cells": [
  {
   "cell_type": "code",
   "execution_count": 1,
   "id": "6e3e5f63-6ac9-4e2b-a8e2-c46e00ff80aa",
   "metadata": {
    "execution": {
     "iopub.execute_input": "2024-12-18T19:38:54.850258Z",
     "iopub.status.busy": "2024-12-18T19:38:54.849962Z",
     "iopub.status.idle": "2024-12-18T19:38:55.207148Z",
     "shell.execute_reply": "2024-12-18T19:38:55.206637Z",
     "shell.execute_reply.started": "2024-12-18T19:38:54.850243Z"
    }
   },
   "outputs": [
    {
     "data": {
      "text/html": [
       "<div>\n",
       "<style scoped>\n",
       "    .dataframe tbody tr th:only-of-type {\n",
       "        vertical-align: middle;\n",
       "    }\n",
       "\n",
       "    .dataframe tbody tr th {\n",
       "        vertical-align: top;\n",
       "    }\n",
       "\n",
       "    .dataframe thead th {\n",
       "        text-align: right;\n",
       "    }\n",
       "</style>\n",
       "<table border=\"1\" class=\"dataframe\">\n",
       "  <thead>\n",
       "    <tr style=\"text-align: right;\">\n",
       "      <th></th>\n",
       "      <th></th>\n",
       "      <th>filename</th>\n",
       "      <th>ebs_true</th>\n",
       "      <th>exo_true</th>\n",
       "      <th>flares_true</th>\n",
       "      <th>rot_true</th>\n",
       "      <th>ebs_pred</th>\n",
       "      <th>exo_pred</th>\n",
       "      <th>flares_pred</th>\n",
       "      <th>rot_pred</th>\n",
       "    </tr>\n",
       "    <tr>\n",
       "      <th>TIC</th>\n",
       "      <th>sector</th>\n",
       "      <th></th>\n",
       "      <th></th>\n",
       "      <th></th>\n",
       "      <th></th>\n",
       "      <th></th>\n",
       "      <th></th>\n",
       "      <th></th>\n",
       "      <th></th>\n",
       "      <th></th>\n",
       "    </tr>\n",
       "  </thead>\n",
       "  <tbody>\n",
       "    <tr>\n",
       "      <th>366972961</th>\n",
       "      <th>25</th>\n",
       "      <td>tess2020133194932-s0025-0000000366972961-0182-...</td>\n",
       "      <td>1.0</td>\n",
       "      <td>0.0</td>\n",
       "      <td>0.0</td>\n",
       "      <td>0.0</td>\n",
       "      <td>0.994729</td>\n",
       "      <td>0.002339</td>\n",
       "      <td>0.001295</td>\n",
       "      <td>0.001636</td>\n",
       "    </tr>\n",
       "    <tr>\n",
       "      <th>349156098</th>\n",
       "      <th>31</th>\n",
       "      <td>tess2020294194027-s0031-0000000349156098-0198-...</td>\n",
       "      <td>1.0</td>\n",
       "      <td>0.0</td>\n",
       "      <td>0.0</td>\n",
       "      <td>0.0</td>\n",
       "      <td>0.846783</td>\n",
       "      <td>0.118212</td>\n",
       "      <td>0.016735</td>\n",
       "      <td>0.018270</td>\n",
       "    </tr>\n",
       "    <tr>\n",
       "      <th>139804406</th>\n",
       "      <th>1</th>\n",
       "      <td>tess2018206045859-s0001-0000000139804406-0120-...</td>\n",
       "      <td>0.0</td>\n",
       "      <td>0.0</td>\n",
       "      <td>1.0</td>\n",
       "      <td>0.0</td>\n",
       "      <td>0.003886</td>\n",
       "      <td>0.006921</td>\n",
       "      <td>0.961462</td>\n",
       "      <td>0.027731</td>\n",
       "    </tr>\n",
       "    <tr>\n",
       "      <th>237913194</th>\n",
       "      <th>28</th>\n",
       "      <td>tess2020212050318-s0028-0000000237913194-0190-...</td>\n",
       "      <td>0.0</td>\n",
       "      <td>1.0</td>\n",
       "      <td>0.0</td>\n",
       "      <td>0.0</td>\n",
       "      <td>0.003016</td>\n",
       "      <td>0.988620</td>\n",
       "      <td>0.006945</td>\n",
       "      <td>0.001419</td>\n",
       "    </tr>\n",
       "    <tr>\n",
       "      <th>238123653</th>\n",
       "      <th>7</th>\n",
       "      <td>tess2019006130736-s0007-0000000238123653-0131-...</td>\n",
       "      <td>0.0</td>\n",
       "      <td>0.0</td>\n",
       "      <td>0.0</td>\n",
       "      <td>1.0</td>\n",
       "      <td>0.008506</td>\n",
       "      <td>0.005488</td>\n",
       "      <td>0.028993</td>\n",
       "      <td>0.957013</td>\n",
       "    </tr>\n",
       "    <tr>\n",
       "      <th>...</th>\n",
       "      <th>...</th>\n",
       "      <td>...</td>\n",
       "      <td>...</td>\n",
       "      <td>...</td>\n",
       "      <td>...</td>\n",
       "      <td>...</td>\n",
       "      <td>...</td>\n",
       "      <td>...</td>\n",
       "      <td>...</td>\n",
       "      <td>...</td>\n",
       "    </tr>\n",
       "    <tr>\n",
       "      <th>264461976</th>\n",
       "      <th>32</th>\n",
       "      <td>tess2020324010417-s0032-0000000264461976-0200-...</td>\n",
       "      <td>0.0</td>\n",
       "      <td>0.0</td>\n",
       "      <td>0.0</td>\n",
       "      <td>1.0</td>\n",
       "      <td>0.197090</td>\n",
       "      <td>0.007325</td>\n",
       "      <td>0.066325</td>\n",
       "      <td>0.729260</td>\n",
       "    </tr>\n",
       "    <tr>\n",
       "      <th>339960875</th>\n",
       "      <th>7</th>\n",
       "      <td>tess2019006130736-s0007-0000000339960875-0131-...</td>\n",
       "      <td>0.0</td>\n",
       "      <td>0.0</td>\n",
       "      <td>0.0</td>\n",
       "      <td>1.0</td>\n",
       "      <td>0.007788</td>\n",
       "      <td>0.001867</td>\n",
       "      <td>0.074269</td>\n",
       "      <td>0.916076</td>\n",
       "    </tr>\n",
       "    <tr>\n",
       "      <th>343173162</th>\n",
       "      <th>24</th>\n",
       "      <td>tess2020106103520-s0024-0000000343173162-0180-...</td>\n",
       "      <td>0.0</td>\n",
       "      <td>0.0</td>\n",
       "      <td>0.0</td>\n",
       "      <td>1.0</td>\n",
       "      <td>0.002038</td>\n",
       "      <td>0.002082</td>\n",
       "      <td>0.006819</td>\n",
       "      <td>0.989061</td>\n",
       "    </tr>\n",
       "    <tr>\n",
       "      <th>350073391</th>\n",
       "      <th>26</th>\n",
       "      <td>tess2020160202036-s0026-0000000350073391-0188-...</td>\n",
       "      <td>0.0</td>\n",
       "      <td>0.0</td>\n",
       "      <td>0.0</td>\n",
       "      <td>1.0</td>\n",
       "      <td>0.012405</td>\n",
       "      <td>0.012654</td>\n",
       "      <td>0.016372</td>\n",
       "      <td>0.958569</td>\n",
       "    </tr>\n",
       "    <tr>\n",
       "      <th>59843967</th>\n",
       "      <th>6</th>\n",
       "      <td>tess2018349182500-s0006-0000000059843967-0126-...</td>\n",
       "      <td>0.0</td>\n",
       "      <td>1.0</td>\n",
       "      <td>0.0</td>\n",
       "      <td>0.0</td>\n",
       "      <td>0.052564</td>\n",
       "      <td>0.919810</td>\n",
       "      <td>0.016212</td>\n",
       "      <td>0.011414</td>\n",
       "    </tr>\n",
       "  </tbody>\n",
       "</table>\n",
       "<p>695 rows × 9 columns</p>\n",
       "</div>"
      ],
      "text/plain": [
       "                                                           filename  ebs_true  \\\n",
       "TIC       sector                                                                \n",
       "366972961 25      tess2020133194932-s0025-0000000366972961-0182-...       1.0   \n",
       "349156098 31      tess2020294194027-s0031-0000000349156098-0198-...       1.0   \n",
       "139804406 1       tess2018206045859-s0001-0000000139804406-0120-...       0.0   \n",
       "237913194 28      tess2020212050318-s0028-0000000237913194-0190-...       0.0   \n",
       "238123653 7       tess2019006130736-s0007-0000000238123653-0131-...       0.0   \n",
       "...                                                             ...       ...   \n",
       "264461976 32      tess2020324010417-s0032-0000000264461976-0200-...       0.0   \n",
       "339960875 7       tess2019006130736-s0007-0000000339960875-0131-...       0.0   \n",
       "343173162 24      tess2020106103520-s0024-0000000343173162-0180-...       0.0   \n",
       "350073391 26      tess2020160202036-s0026-0000000350073391-0188-...       0.0   \n",
       "59843967  6       tess2018349182500-s0006-0000000059843967-0126-...       0.0   \n",
       "\n",
       "                  exo_true  flares_true  rot_true  ebs_pred  exo_pred  \\\n",
       "TIC       sector                                                        \n",
       "366972961 25           0.0          0.0       0.0  0.994729  0.002339   \n",
       "349156098 31           0.0          0.0       0.0  0.846783  0.118212   \n",
       "139804406 1            0.0          1.0       0.0  0.003886  0.006921   \n",
       "237913194 28           1.0          0.0       0.0  0.003016  0.988620   \n",
       "238123653 7            0.0          0.0       1.0  0.008506  0.005488   \n",
       "...                    ...          ...       ...       ...       ...   \n",
       "264461976 32           0.0          0.0       1.0  0.197090  0.007325   \n",
       "339960875 7            0.0          0.0       1.0  0.007788  0.001867   \n",
       "343173162 24           0.0          0.0       1.0  0.002038  0.002082   \n",
       "350073391 26           0.0          0.0       1.0  0.012405  0.012654   \n",
       "59843967  6            1.0          0.0       0.0  0.052564  0.919810   \n",
       "\n",
       "                  flares_pred  rot_pred  \n",
       "TIC       sector                         \n",
       "366972961 25         0.001295  0.001636  \n",
       "349156098 31         0.016735  0.018270  \n",
       "139804406 1          0.961462  0.027731  \n",
       "237913194 28         0.006945  0.001419  \n",
       "238123653 7          0.028993  0.957013  \n",
       "...                       ...       ...  \n",
       "264461976 32         0.066325  0.729260  \n",
       "339960875 7          0.074269  0.916076  \n",
       "343173162 24         0.006819  0.989061  \n",
       "350073391 26         0.016372  0.958569  \n",
       "59843967  6          0.016212  0.011414  \n",
       "\n",
       "[695 rows x 9 columns]"
      ]
     },
     "execution_count": 1,
     "metadata": {},
     "output_type": "execute_result"
    }
   ],
   "source": [
    "import pandas as pd\n",
    "\n",
    "RUN_NAME = \"batchnorm1\"\n",
    "RUN_NUMBER = 0\n",
    "MODEL_NAME = f\"{RUN_NAME}_{RUN_NUMBER}\"\n",
    "\n",
    "data = pd.read_csv(f\"runs/{MODEL_NAME}/{MODEL_NAME}_predictions.csv\", index_col=[0, 1])\n",
    "data"
   ]
  },
  {
   "cell_type": "code",
   "execution_count": 2,
   "id": "1dc7a401-817a-4f2b-9457-5168387f1070",
   "metadata": {
    "execution": {
     "iopub.execute_input": "2024-12-18T19:39:00.405267Z",
     "iopub.status.busy": "2024-12-18T19:39:00.405010Z",
     "iopub.status.idle": "2024-12-18T19:39:00.409340Z",
     "shell.execute_reply": "2024-12-18T19:39:00.408825Z",
     "shell.execute_reply.started": "2024-12-18T19:39:00.405251Z"
    }
   },
   "outputs": [],
   "source": [
    "comp = (data[[\"ebs_pred\", \"exo_pred\", \"flares_pred\", \"rot_pred\"]].round(1).values == 1) & (1 == data[[\"ebs_true\", \"exo_true\", \"flares_true\", \"rot_true\"]].values)"
   ]
  },
  {
   "cell_type": "code",
   "execution_count": 3,
   "id": "66fbaca1-4ee6-4bd8-9187-f2e7a27a1eea",
   "metadata": {
    "execution": {
     "iopub.execute_input": "2024-12-18T19:39:06.601573Z",
     "iopub.status.busy": "2024-12-18T19:39:06.601346Z",
     "iopub.status.idle": "2024-12-18T19:39:06.606593Z",
     "shell.execute_reply": "2024-12-18T19:39:06.606088Z",
     "shell.execute_reply.started": "2024-12-18T19:39:06.601557Z"
    }
   },
   "outputs": [
    {
     "data": {
      "text/plain": [
       "array([0.58173077, 0.63402062, 0.17204301, 0.59390863])"
      ]
     },
     "execution_count": 3,
     "metadata": {},
     "output_type": "execute_result"
    }
   ],
   "source": [
    "comp.sum(axis=0) / (data[[\"ebs_true\", \"exo_true\", \"flares_true\", \"rot_true\"]].values == 1).sum(axis=0)"
   ]
  },
  {
   "cell_type": "code",
   "execution_count": 4,
   "id": "f9127691-62e3-4822-a593-64d6e7cae4a3",
   "metadata": {
    "execution": {
     "iopub.execute_input": "2024-12-18T19:39:13.510297Z",
     "iopub.status.busy": "2024-12-18T19:39:13.510074Z",
     "iopub.status.idle": "2024-12-18T19:39:13.515519Z",
     "shell.execute_reply": "2024-12-18T19:39:13.515089Z",
     "shell.execute_reply.started": "2024-12-18T19:39:13.510280Z"
    }
   },
   "outputs": [
    {
     "data": {
      "text/plain": [
       "525"
      ]
     },
     "execution_count": 4,
     "metadata": {},
     "output_type": "execute_result"
    }
   ],
   "source": [
    "(data[[\"ebs_pred\", \"exo_pred\", \"flares_pred\", \"rot_pred\"]].values.argmax(axis=1) == data[[\"ebs_true\", \"exo_true\", \"flares_true\", \"rot_true\"]].values.argmax(axis=1)).sum()"
   ]
  },
  {
   "cell_type": "code",
   "execution_count": 5,
   "id": "1d0d6394-ee41-4e2c-bc2b-a27cd4aa0d89",
   "metadata": {
    "execution": {
     "iopub.execute_input": "2024-12-18T19:39:17.078609Z",
     "iopub.status.busy": "2024-12-18T19:39:17.078214Z",
     "iopub.status.idle": "2024-12-18T19:39:17.083816Z",
     "shell.execute_reply": "2024-12-18T19:39:17.083414Z",
     "shell.execute_reply.started": "2024-12-18T19:39:17.078594Z"
    }
   },
   "outputs": [
    {
     "data": {
      "text/plain": [
       "ebs_pred       189.888504\n",
       "exo_pred       215.268959\n",
       "flares_pred     64.571774\n",
       "rot_pred       225.270762\n",
       "dtype: float64"
      ]
     },
     "execution_count": 5,
     "metadata": {},
     "output_type": "execute_result"
    }
   ],
   "source": [
    "data[[\"ebs_pred\", \"exo_pred\", \"flares_pred\", \"rot_pred\"]].sum()"
   ]
  },
  {
   "cell_type": "code",
   "execution_count": 6,
   "id": "2486b223-cf56-478a-8261-b5d524b0cbc8",
   "metadata": {
    "execution": {
     "iopub.execute_input": "2024-12-18T19:39:21.882626Z",
     "iopub.status.busy": "2024-12-18T19:39:21.882138Z",
     "iopub.status.idle": "2024-12-18T19:39:21.887646Z",
     "shell.execute_reply": "2024-12-18T19:39:21.887240Z",
     "shell.execute_reply.started": "2024-12-18T19:39:21.882610Z"
    }
   },
   "outputs": [
    {
     "data": {
      "text/plain": [
       "ebs_true       0.301439\n",
       "exo_true       0.280576\n",
       "flares_true    0.133813\n",
       "rot_true       0.284173\n",
       "dtype: float64"
      ]
     },
     "execution_count": 6,
     "metadata": {},
     "output_type": "execute_result"
    }
   ],
   "source": [
    "data[[\"ebs_true\", \"exo_true\", \"flares_true\", \"rot_true\"]].sum()/len(data)"
   ]
  },
  {
   "cell_type": "code",
   "execution_count": null,
   "id": "d97b8969-3267-476d-956a-f39fe50d4bb9",
   "metadata": {},
   "outputs": [],
   "source": []
  }
 ],
 "metadata": {
  "kernelspec": {
   "display_name": "notebook",
   "language": "python",
   "name": "python3"
  },
  "language_info": {
   "codemirror_mode": {
    "name": "ipython",
    "version": 3
   },
   "file_extension": ".py",
   "mimetype": "text/x-python",
   "name": "python",
   "nbconvert_exporter": "python",
   "pygments_lexer": "ipython3",
   "version": "3.11.0"
  }
 },
 "nbformat": 4,
 "nbformat_minor": 5
}
