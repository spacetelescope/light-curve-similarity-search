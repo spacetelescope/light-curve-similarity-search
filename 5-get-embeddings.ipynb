{
 "cells": [
  {
   "cell_type": "code",
   "execution_count": 1,
   "id": "85582bd5-b862-464d-ae11-7b2baa686e49",
   "metadata": {
    "execution": {
     "iopub.execute_input": "2024-12-17T19:16:00.497346Z",
     "iopub.status.busy": "2024-12-17T19:16:00.496871Z",
     "iopub.status.idle": "2024-12-17T19:16:40.616177Z",
     "shell.execute_reply": "2024-12-17T19:16:40.615576Z",
     "shell.execute_reply.started": "2024-12-17T19:16:00.497328Z"
    }
   },
   "outputs": [
    {
     "name": "stdout",
     "output_type": "stream",
     "text": [
      "The history saving thread hit an unexpected error (OperationalError('attempt to write a readonly database')).History will not be written to the database.\n",
      "Channels:\n",
      " - pytorch\n",
      " - conda-forge\n",
      "Platform: linux-64\n",
      "Collecting package metadata (repodata.json): ...working... done\n",
      "Solving environment: ...working... done\n",
      "\n",
      "## Package Plan ##\n",
      "\n",
      "  environment location: /opt/conda/envs/notebook\n",
      "\n",
      "  added / updated specs:\n",
      "    - pytorch-cpu\n",
      "\n",
      "\n",
      "The following packages will be downloaded:\n",
      "\n",
      "    package                    |            build\n",
      "    ---------------------------|-----------------\n",
      "    ca-certificates-2024.12.14 |       hbcca054_0         153 KB  conda-forge\n",
      "    certifi-2024.12.14         |     pyhd8ed1ab_0         158 KB  conda-forge\n",
      "    filelock-3.16.1            |     pyhd8ed1ab_1          17 KB  conda-forge\n",
      "    gmpy2-2.1.5                |  py311h0f6cedb_3         198 KB  conda-forge\n",
      "    libtorch-2.5.1             |cpu_generic_h1b269f6_6        51.0 MB  conda-forge\n",
      "    mpc-1.3.1                  |       h24ddda3_1         114 KB  conda-forge\n",
      "    mpmath-1.3.0               |     pyhd8ed1ab_1         429 KB  conda-forge\n",
      "    nomkl-1.0                  |       h5ca1d4c_0           4 KB  conda-forge\n",
      "    pytorch-2.5.1              |cpu_generic_py311h2edd984_6        36.1 MB  conda-forge\n",
      "    pytorch-cpu-2.5.1          |cpu_generic_hd752803_6          24 KB  conda-forge\n",
      "    sleef-3.7                  |       h1b44611_2         1.8 MB  conda-forge\n",
      "    sympy-1.13.3               | pypyh2585a3b_103         4.4 MB  conda-forge\n",
      "    ------------------------------------------------------------\n",
      "                                           Total:        94.3 MB\n",
      "\n",
      "The following NEW packages will be INSTALLED:\n",
      "\n",
      "  filelock           conda-forge/noarch::filelock-3.16.1-pyhd8ed1ab_1 \n",
      "  gmpy2              conda-forge/linux-64::gmpy2-2.1.5-py311h0f6cedb_3 \n",
      "  libtorch           conda-forge/linux-64::libtorch-2.5.1-cpu_generic_h1b269f6_6 \n",
      "  mpc                conda-forge/linux-64::mpc-1.3.1-h24ddda3_1 \n",
      "  mpmath             conda-forge/noarch::mpmath-1.3.0-pyhd8ed1ab_1 \n",
      "  nomkl              conda-forge/noarch::nomkl-1.0-h5ca1d4c_0 \n",
      "  pytorch            conda-forge/linux-64::pytorch-2.5.1-cpu_generic_py311h2edd984_6 \n",
      "  pytorch-cpu        conda-forge/linux-64::pytorch-cpu-2.5.1-cpu_generic_hd752803_6 \n",
      "  sleef              conda-forge/linux-64::sleef-3.7-h1b44611_2 \n",
      "  sympy              conda-forge/noarch::sympy-1.13.3-pypyh2585a3b_103 \n",
      "\n",
      "The following packages will be UPDATED:\n",
      "\n",
      "  ca-certificates                      2024.8.30-hbcca054_0 --> 2024.12.14-hbcca054_0 \n",
      "  certifi                            2024.8.30-pyhd8ed1ab_0 --> 2024.12.14-pyhd8ed1ab_0 \n",
      "\n",
      "\n",
      "Preparing transaction: ...working... done\n",
      "Verifying transaction: ...working... done\n",
      "Executing transaction: ...working... done\n",
      "\n",
      "Note: you may need to restart the kernel to use updated packages.\n"
     ]
    }
   ],
   "source": [
    "%conda install -yq pytorch-cpu -c pytorch"
   ]
  },
  {
   "cell_type": "code",
   "execution_count": 2,
   "id": "ba43fcc4-4fc6-498c-a40c-399928c00b3e",
   "metadata": {
    "execution": {
     "iopub.execute_input": "2024-12-17T19:16:40.617257Z",
     "iopub.status.busy": "2024-12-17T19:16:40.617082Z",
     "iopub.status.idle": "2024-12-17T19:16:43.457098Z",
     "shell.execute_reply": "2024-12-17T19:16:43.456654Z",
     "shell.execute_reply.started": "2024-12-17T19:16:40.617240Z"
    }
   },
   "outputs": [],
   "source": [
    "import os\n",
    "import sys\n",
    "\n",
    "import numpy as np\n",
    "import pandas as pd\n",
    "import matplotlib.pyplot as plt\n",
    "import torch\n",
    "from torch.utils.data import Dataset\n",
    "\n",
    "from model import ConvNet"
   ]
  },
  {
   "cell_type": "code",
   "execution_count": 3,
   "id": "9a87720d-d314-4bf8-8774-8f599752ee93",
   "metadata": {
    "execution": {
     "iopub.execute_input": "2024-12-17T19:16:43.457792Z",
     "iopub.status.busy": "2024-12-17T19:16:43.457568Z",
     "iopub.status.idle": "2024-12-17T19:16:43.460639Z",
     "shell.execute_reply": "2024-12-17T19:16:43.460214Z",
     "shell.execute_reply.started": "2024-12-17T19:16:43.457777Z"
    }
   },
   "outputs": [],
   "source": [
    "RUN_NUMBER = 0 # which channels selection to use\n",
    "RUN_NAME = \"batchnorm1\"\n",
    "\n",
    "MODEL_NAME = f\"{RUN_NAME}_{RUN_NUMBER}\"\n",
    "\n",
    "# Channel configurations\n",
    "channels = {\n",
    "    0: [8, 16, 32],\n",
    "    1: [16, 32, 64],\n",
    "    2: [32, 64, 128],\n",
    "    3: [64, 128, 256]\n",
    "}"
   ]
  },
  {
   "cell_type": "code",
   "execution_count": 4,
   "id": "d902e65f-8188-413a-b419-6401b95873f0",
   "metadata": {
    "execution": {
     "iopub.execute_input": "2024-12-17T19:16:43.461613Z",
     "iopub.status.busy": "2024-12-17T19:16:43.461463Z",
     "iopub.status.idle": "2024-12-17T19:16:43.466148Z",
     "shell.execute_reply": "2024-12-17T19:16:43.465737Z",
     "shell.execute_reply.started": "2024-12-17T19:16:43.461599Z"
    }
   },
   "outputs": [],
   "source": [
    "class WaveletDataset(Dataset):\n",
    "    \"\"\"Custom dataset class for loading wavelet data from files.\n",
    "\n",
    "    This class is responsible for loading wavelet data and corresponding labels\n",
    "    from the specified file paths. It supports splitting the data into training,\n",
    "    validation, and test sets.\n",
    "\n",
    "    Attributes:\n",
    "        data_frame (np.ndarray): Array containing the wavelet data.\n",
    "        labels (np.ndarray): Array containing the scaled labels.\n",
    "    \"\"\"    \n",
    "    def __init__(self, data, mode, split=[0.8, 0.1, 0.1]):\n",
    "        \"\"\"\n",
    "        Initialize the dataset.\n",
    "        \n",
    "        Args:\n",
    "            data (DataFrame): the input and output data.\n",
    "            mode (str): Mode to load ('train', 'val', or 'test').\n",
    "            split (list): train, validation, and test split fractions.\n",
    "        \"\"\"\n",
    "        ftrain, fval, ftest = [s/sum(split) for s in split]\n",
    "        i_train = int(ftrain * len(data))\n",
    "        i_val = int((ftrain + fval) * len(data))\n",
    "        \n",
    "        if mode == \"train\":\n",
    "            df = data.iloc[:i_train]\n",
    "        elif mode == \"val\":\n",
    "            df = data.iloc[i_train:i_val]\n",
    "        elif mode == \"test\":\n",
    "            df = data.iloc[i_val:]\n",
    "            \n",
    "        self.features = df[\"wavelet\"].values\n",
    "        self.labels = df[[\"ebs\", \"exo\", \"flares\", \"rot\"]].values\n",
    "\n",
    "    def __len__(self):\n",
    "        \"\"\"Return the length of the dataset.\"\"\"\n",
    "        return len(self.labels)\n",
    "\n",
    "    def __getitem__(self, idx):\n",
    "        \"\"\"Retrieve a single sample and its corresponding label.\n",
    "\n",
    "        Args:\n",
    "            idx (int): The index of the sample to retrieve.\n",
    "\n",
    "        Returns:\n",
    "            tuple: A tuple containing the sample data (torch.Tensor) and the \n",
    "                   corresponding label (torch.Tensor).\n",
    "        \"\"\"\n",
    "        X = self.features[idx].astype('float32')\n",
    "        X = torch.unsqueeze(torch.tensor(X), 0)\n",
    "        label = torch.tensor(self.labels[idx].astype('float32'))\n",
    "        return X, label"
   ]
  },
  {
   "cell_type": "code",
   "execution_count": 5,
   "id": "537a047f-f564-46c2-8d7f-a7077d8ab170",
   "metadata": {
    "execution": {
     "iopub.execute_input": "2024-12-17T19:16:43.466647Z",
     "iopub.status.busy": "2024-12-17T19:16:43.466516Z",
     "iopub.status.idle": "2024-12-17T19:17:00.751892Z",
     "shell.execute_reply": "2024-12-17T19:17:00.751354Z",
     "shell.execute_reply.started": "2024-12-17T19:16:43.466634Z"
    }
   },
   "outputs": [],
   "source": [
    "cols = [\"ebs\", \"exo\", \"flares\", \"rot\"]\n",
    "cat = pd.DataFrame([], columns=[\"TIC\", \"sector\", *cols, \"wavelet\"])\n",
    "cat.index.name = \"filename\"\n",
    "\n",
    "for i, col in enumerate(cols):\n",
    "    for s in os.listdir(f\"wavelets/tess-{col}\"):\n",
    "        if s not in cat.index:\n",
    "            wav = np.load(f\"wavelets/tess-{col}/{s}\")\n",
    "            cat.loc[s] = [int(s[24:40]), int(s[19:23]), *([0]*len(cols)), wav/wav.max()]\n",
    "        cat.loc[s, col] = 1\n",
    "\n",
    "cat = cat.reset_index().set_index([\"TIC\", \"sector\"]).sort_index()\n",
    "cat[cols] = cat[cols].div(cat[cols].sum(axis=1), axis=0)"
   ]
  },
  {
   "cell_type": "code",
   "execution_count": 6,
   "id": "91cfb5ad-a2c1-435c-9a1a-9ecedccc644b",
   "metadata": {
    "execution": {
     "iopub.execute_input": "2024-12-17T19:17:00.752597Z",
     "iopub.status.busy": "2024-12-17T19:17:00.752431Z",
     "iopub.status.idle": "2024-12-17T19:17:01.149690Z",
     "shell.execute_reply": "2024-12-17T19:17:01.149187Z",
     "shell.execute_reply.started": "2024-12-17T19:17:00.752582Z"
    }
   },
   "outputs": [],
   "source": [
    "np.random.seed(42)\n",
    "mycat = cat.sample(frac=1)\n",
    "tdata = torch.tensor(np.stack(WaveletDataset(mycat, \"test\").features), dtype=torch.float32).unsqueeze(1)\n",
    "\n",
    "device = torch.device(\"cpu\")\n",
    "model = ConvNet(channels[RUN_NUMBER], k=3).to(device)\n",
    "weights = model.load_state_dict(torch.load(f\"{MODEL_NAME}/models/{MODEL_NAME}.pt\", weights_only=True))\n",
    "\n",
    "model.eval()\n",
    "with torch.no_grad():\n",
    "    embeddings = model.get_embeddings(tdata)"
   ]
  },
  {
   "cell_type": "code",
   "execution_count": 12,
   "id": "99105cb4-edcf-4d6c-b416-8fc2cee0876b",
   "metadata": {
    "execution": {
     "iopub.execute_input": "2024-12-17T19:27:38.445519Z",
     "iopub.status.busy": "2024-12-17T19:27:38.445110Z",
     "iopub.status.idle": "2024-12-17T19:27:38.448366Z",
     "shell.execute_reply": "2024-12-17T19:27:38.447966Z",
     "shell.execute_reply.started": "2024-12-17T19:27:38.445500Z"
    }
   },
   "outputs": [],
   "source": [
    "np.save(\"embeddings.npy\", embeddings.numpy())"
   ]
  },
  {
   "cell_type": "code",
   "execution_count": 11,
   "id": "0f60c6fd-2085-4a76-8716-8a16de323e22",
   "metadata": {
    "execution": {
     "iopub.execute_input": "2024-12-16T19:48:33.188486Z",
     "iopub.status.busy": "2024-12-16T19:48:33.188139Z",
     "iopub.status.idle": "2024-12-16T19:48:33.281333Z",
     "shell.execute_reply": "2024-12-16T19:48:33.280877Z",
     "shell.execute_reply.started": "2024-12-16T19:48:33.188469Z"
    }
   },
   "outputs": [
    {
     "data": {
      "image/png": "[encoded data removed]",
      "text/plain": [
       "<Figure size 640x480 with 1 Axes>"
      ]
     },
     "metadata": {},
     "output_type": "display_data"
    }
   ],
   "source": [
    "plt.hist(embeddings.flatten());"
   ]
  },
  {
   "cell_type": "code",
   "execution_count": null,
   "id": "690e670b-b241-47b5-8906-e3b5d13eea99",
   "metadata": {},
   "outputs": [],
   "source": []
  }
 ],
 "metadata": {
  "kernelspec": {
   "display_name": "notebook",
   "language": "python",
   "name": "python3"
  },
  "language_info": {
   "codemirror_mode": {
    "name": "ipython",
    "version": 3
   },
   "file_extension": ".py",
   "mimetype": "text/x-python",
   "name": "python",
   "nbconvert_exporter": "python",
   "pygments_lexer": "ipython3",
   "version": "3.11.0"
  }
 },
 "nbformat": 4,
 "nbformat_minor": 5
}
