{
 "cells": [
  {
   "cell_type": "code",
   "execution_count": null,
   "id": "e503913f-ab69-4bf3-9164-f3d133f1a068",
   "metadata": {},
   "outputs": [],
   "source": [
    "import pandas as pd\n",
    "data = pd.read_csv(\"classes_0/output/test_output.csv\", index_col=[0, 1])\n",
    "data"
   ]
  },
  {
   "cell_type": "code",
   "execution_count": null,
   "id": "b6a390f8-f5a1-487d-8641-55d4dc388b01",
   "metadata": {
    "scrolled": true
   },
   "outputs": [],
   "source": [
    "from astroquery.mast import Observations\n",
    "\n",
    "Observations.enable_cloud_dataset()\n",
    "\n",
    "t = None\n",
    "\n",
    "for idx, row in data.iterrows():\n",
    "    tic, s = idx\n",
    "    fname = row[\"filename\"]\n",
    "    print(tic, s, fname)\n",
    "\n",
    "    try:\n",
    "        obs = Observations.query_criteria(dataproduct_type=\"timeseries\", obs_collection=\"tess\", target_name=tic, sequence_number=s)\n",
    "        prods = Observations.get_product_list(obs)\n",
    "        prods = Observations.filter_products(prods, obs_id=fname.replace(\"_wt.npy\", \"\"), description=\"Light curves\")\n",
    "    except:\n",
    "        print(\"Error!\")\n",
    "    else:\n",
    "        if t is None:\n",
    "            t = prods\n",
    "        elif len(prods) == 1:\n",
    "            t.add_row(prods[0])"
   ]
  },
  {
   "cell_type": "code",
   "execution_count": null,
   "id": "6a82bc13-a313-42e4-b918-d6e771a9d59e",
   "metadata": {
    "scrolled": true
   },
   "outputs": [],
   "source": [
    "Observations.download_products(t)"
   ]
  }
 ],
 "metadata": {
  "kernelspec": {
   "display_name": "notebook",
   "language": "python",
   "name": "python3"
  },
  "language_info": {
   "codemirror_mode": {
    "name": "ipython",
    "version": 3
   },
   "file_extension": ".py",
   "mimetype": "text/x-python",
   "name": "python",
   "nbconvert_exporter": "python",
   "pygments_lexer": "ipython3",
   "version": "3.11.0"
  }
 },
 "nbformat": 4,
 "nbformat_minor": 5
}
